{
 "cells": [
  {
   "cell_type": "markdown",
   "metadata": {},
   "source": [
    "# Importando o Dataset"
   ]
  },
  {
   "cell_type": "code",
   "execution_count": 1,
   "metadata": {},
   "outputs": [],
   "source": [
    "import json"
   ]
  },
  {
   "cell_type": "code",
   "execution_count": 2,
   "metadata": {},
   "outputs": [],
   "source": [
    "teste = open('Dataset.txt', 'r')\n",
    "dataset = json.load(teste)"
   ]
  },
  {
   "cell_type": "markdown",
   "metadata": {},
   "source": [
    "# Chromadb - Armazenando o dataset"
   ]
  },
  {
   "cell_type": "code",
   "execution_count": 3,
   "metadata": {},
   "outputs": [
    {
     "name": "stdout",
     "output_type": "stream",
     "text": [
      "C:\\Users\\anton\\AppData\\Local\\Microsoft\\WindowsApps\\PythonSoftwareFoundation.Python.3.12_qbz5n2kfra8p0\\python.exe\n"
     ]
    }
   ],
   "source": [
    "import sys\n",
    "print(sys.executable)"
   ]
  },
  {
   "cell_type": "code",
   "execution_count": 4,
   "metadata": {},
   "outputs": [
    {
     "name": "stdout",
     "output_type": "stream",
     "text": [
      "{\n",
      "      \"date\":\"2025-02-12\",\n",
      "      \"time\":\"07:20:00\",\n",
      "      \"period\":\"manhÃ£\",\n",
      "      \"day_of_week\":\"quarta-feira\",\n",
      "      \"season\":\"verÃ£o\",\n",
      "      \"session\":\"cafÃ©-da-manhÃ£\"\n",
      "      }\n",
      "\n",
      "      Preparou cafÃ© coado em filtro de papel, observando a primeira luz do dia refletir no lÃ­quido Ã¢mbar enquanto a chaleira assobiava. Um pÃ£o francÃªs amanhecido foi transformado em torradas douradas, untadas com manteiga que derretia em veios translÃºcidos. Do quintal, vinha o barulho de pÃ¡ssaros disputando migalhas caÃ­das da mesa externa, enquanto o cheiro de terra molhada da chuva noturna ainda pairava no ar.\n",
      "      \n",
      "{\n",
      "      \"date\":\"2025-02-12\",\n",
      "      \"time\":\"12:50:00\",\n",
      "      \"period\":\"meio-dia\",\n",
      "      \"day_of_week\":\"quarta-feira\",\n",
      "      \"season\":\"verÃ£o\",\n",
      "      \"session\":\"almoÃ§o\"\n",
      "      }\n",
      "\n",
      "      Reaqueceu arroz do dia anterior, adicionando ervilhas congeladas que estalavam na panela. Cortou tomates maduros em fatias desiguais, cujo suco se misturou ao azeite no prato formando poÃ§as rosadas. Durante a refeiÃ§Ã£o, notou uma formiga carregando um grÃ£o de arroz pela janela, persistindo mesmo apÃ³s trÃªs tentativas de interrupÃ§Ã£o do vento que balanÃ§ava a cortina.\n",
      "      \n",
      "{\n",
      "      \"date\":\"2025-02-12\",\n",
      "      \"time\":\"16:15:00\",\n",
      "      \"period\":\"tarde\",\n",
      "      \"day_of_week\":\"quarta-feira\",\n",
      "      \"season\":\"verÃ£o\",\n",
      "      \"session\":\"lanche da tarde\"\n",
      "      }\n",
      "\n",
      "      Misturou iogurte natural com mel cristalizado que precisou ser quebrado em lascas com uma colher. Polvilhou canela em pÃ³ que formou padrÃµes efÃªmeros na superfÃ­cie antes de se dissolver. Enquanto comia, recebeu uma ligaÃ§Ã£o automÃ¡tica de cobranÃ§a e observou uma nuvem em forma de tartaruga se desfazer lentamente sobre os telhados vizinhos.\n",
      "      \n",
      "{\n",
      "      \"date\":\"2025-02-12\",\n",
      "      \"time\":\"19:45:00\",\n",
      "      \"period\":\"noite\",\n",
      "      \"day_of_week\":\"quarta-feira\",\n",
      "      \"season\":\"verÃ£o\",\n",
      "      \"session\":\"janta\"\n",
      "      }\n",
      "\n",
      "      Fritou ovos em azeite atÃ© as bordas ficarem rendilhadas, servindo sobre espinafre refogado que soltou Ã¡gua verde no fundo do prato. A Ãºltima fatia de queijo foi descoberta com pequenos furinhos de fermentaÃ§Ã£o, mas consumida assim mesmo. Durante a refeiÃ§Ã£o, ouviu os sons abafados de uma discussÃ£o conjugal vinda do apartamento superior, intercalados com o barulho de talheres contra a louÃ§a.\n",
      "      \n",
      "{\n",
      "      \"date\":\"2025-02-12\",\n",
      "      \"time\":\"22:30:00\",\n",
      "      \"period\":\"noite\",\n",
      "      \"day_of_week\":\"quarta-feira\",\n",
      "      \"season\":\"verÃ£o\",\n",
      "      \"session\":\"lanche da noite\"\n",
      "      }\n",
      "\n",
      "      Descascou uma banana madura demais, cuja polpa macia grudava nos dedos enquanto ouvia o zumbido distante de um mosquito. Mastigou lentamente observando as sombras dos galhos danÃ§arem na parede iluminada pelo poste da rua, atÃ© que o barulho de uma moto acelerando na avenida prÃ³xima quebrou o silÃªncio.\n",
      "      \n"
     ]
    }
   ],
   "source": [
    "\n",
    "for i in dataset:\n",
    "    a = f\"\"\"{{\n",
    "      \"date\":\"{i['date']}\",\n",
    "      \"time\":\"{i['time']}\",\n",
    "      \"period\":\"{i['period']}\",\n",
    "      \"day_of_week\":\"{i['day_of_week']}\",\n",
    "      \"season\":\"{i['season']}\",\n",
    "      \"session\":\"{i['session']}\"\n",
    "      }}\n",
    "      \n",
    "      {i[\"description\"]}\n",
    "      \"\"\"\n",
    "\n",
    "    if (i['date'] == '2025-02-12'):\n",
    "        print(a)"
   ]
  },
  {
   "cell_type": "code",
   "execution_count": 5,
   "metadata": {},
   "outputs": [],
   "source": [
    "import ollama\n",
    "import chromadb\n",
    "import numpy as np"
   ]
  },
  {
   "cell_type": "code",
   "execution_count": null,
   "metadata": {},
   "outputs": [],
   "source": [
    "client = chromadb.PersistentClient(path=\"chroma/\")\n",
    "collection = client.get_or_create_collection(name=\"temporal\")\n",
    "\n",
    "ollama.pull(\"granite-embedding\")\n",
    "\n",
    "for d, i in enumerate(dataset):\n",
    "    a = f\"\"\"{{\n",
    "      \"date\":\"{i['date']}\",\n",
    "      \"time\":\"{i['time']}\",\n",
    "      \"period\":\"{i['period']}\",\n",
    "      \"day_of_week\":\"{i['day_of_week']}\",\n",
    "      \"season\":\"{i['season']}\",\n",
    "      \"session\":\"{i['session']}\"\n",
    "      }}\n",
    "      \"\"\"\n",
    "    \n",
    "    description = i[\"description\"]\n",
    "\n",
    "    embedding = np.array(ollama.embed(model=\"granite-embedding:278m\", input=a)[\"embeddings\"])\n",
    "    description_embedding = np.array(ollama.embed(model=\"granite-embedding:278m\", input=description)[\"embeddings\"])\n",
    "\n",
    "    # Reduzir peso da description em: reduzir 80%\n",
    "    description_embedding *= 0.2\n",
    "\n",
    "    # Combinar embeddings\n",
    "    final_embedding = embedding + description_embedding\n",
    "\n",
    "    collection.add(\n",
    "        ids=[str(d)],\n",
    "        embeddings=final_embedding.tolist(),\n",
    "        documents=[f\"{a}\\n\\n {description}\"]\n",
    "    )"
   ]
  },
  {
   "cell_type": "code",
   "execution_count": 7,
   "metadata": {},
   "outputs": [
    {
     "data": {
      "text/plain": [
       "44"
      ]
     },
     "execution_count": 7,
     "metadata": {},
     "output_type": "execute_result"
    }
   ],
   "source": [
    "collection.count()"
   ]
  },
  {
   "cell_type": "markdown",
   "metadata": {},
   "source": [
    "# LLM - Requisição Inicial"
   ]
  },
  {
   "cell_type": "code",
   "execution_count": 23,
   "metadata": {},
   "outputs": [],
   "source": [
    "pergunta = \"O que almocei no dia 2025-02-26?\""
   ]
  },
  {
   "cell_type": "code",
   "execution_count": null,
   "metadata": {},
   "outputs": [],
   "source": []
  },
  {
   "cell_type": "code",
   "execution_count": 24,
   "metadata": {},
   "outputs": [],
   "source": [
    "embeddingPergunta = ollama.embed(model=\"granite-embedding:278m\", input=pergunta)[\"embeddings\"]\n",
    "memorias = collection.query(query_embeddings=embeddingPergunta, n_results=6)[\"documents\"]"
   ]
  },
  {
   "cell_type": "code",
   "execution_count": 25,
   "metadata": {},
   "outputs": [
    {
     "data": {
      "text/plain": [
       "[['{\\n      \"date\":\"2025-02-26\",\\n      \"time\":\"20:35:00\",\\n      \"period\":\"noite\",\\n      \"day_of_week\":\"terÃ§a\",\\n      \"season\":\"verÃ£o\",\\n      \"session\":\"jantar\"\\n      }\\n      \\n\\n O jantar em casa foi um momento de tranquilidade. A luz suave das velas criava um ambiente Ã\\xadntimo, enquanto a mÃºsica clÃ¡ssica preenchia o ar. O sabor do frango assado com ervas pairava no ar, acompanhado por legumes frescos e crocantes. A conversa com a famÃ\\xadlia era leve e descontraÃ\\xadda, histÃ³rias do dia sendo compartilhadas, risadas e carinho. \\n Antes de dormir, um livro nas mÃ£os, a luz suave do abajur iluminando as pÃ¡ginas. A histÃ³ria envolvente me transportava para outro mundo, um refÃºgio da realidade. A sensaÃ§Ã£o de paz e relaxamento me invadia, o corpo cansado, mas a mente tranquila. O sono chegou suavemente, um descanso merecido apÃ³s um dia cheio de experiÃªncias.',\n",
       "  '{\\n      \"date\":\"2025-02-26\",\\n      \"time\":\"12:20:00\",\\n      \"period\":\"dia\",\\n      \"day_of_week\":\"terÃ§a\",\\n      \"season\":\"verÃ£o\",\\n      \"session\":\"almoÃ§o\"\\n      }\\n      \\n\\n O almoÃ§o em um pequeno restaurante italiano no centro da cidade foi um refÃºgio bem-vindo. O aroma de manjericÃ£o e tomate pairava no ar, e o som suave da mÃºsica italiana criava um ambiente acolhedor. A massa fresca, cozida al dente, derretia na boca, acompanhada por um vinho tinto encorpado. A conversa com um velho amigo fluÃ\\xada naturalmente, risadas e histÃ³rias compartilhadas, um momento de pura alegria. \\n A tarde no parque foi um presente para os sentidos. A grama verde e macia convidava a um descanso, enquanto o sol aquecia a pele. O som das crianÃ§as brincando se misturava com o canto dos pÃ¡ssaros, criando uma sinfonia natural. Observei um casal de idosos caminhando de mÃ£os dadas, um exemplo de amor duradouro. A beleza simples da natureza, um lembrete da importÃ¢ncia de apreciar os pequenos momentos.',\n",
       "  '{\\n      \"date\":\"2025-02-26\",\\n      \"time\":\"07:35:00\",\\n      \"period\":\"manhÃ£\",\\n      \"day_of_week\":\"terÃ§a\",\\n      \"season\":\"verÃ£o\",\\n      \"session\":\"ao acordar\"\\n      }\\n      \\n\\n O sol da manhÃ£ entrava pelas frestas da cortina, desenhando listras douradas no chÃ£o de madeira. O aroma forte do cafÃ© fresco se misturava com o cheiro adocicado das torradas na cozinha. Sentei-me Ã\\xa0 mesa, a xÃ\\xadcara quente aquecendo minhas mÃ£os, e observei o movimento tranquilo da rua pela janela. Carros passavam com pressa, enquanto alguns pedestres caminhavam calmamente, aproveitando a brisa suave. Uma sensaÃ§Ã£o de paz me invadiu, um momento de quietude antes do inÃ\\xadcio do dia agitado. \\n No escritÃ³rio, a tela do computador brilhava com inÃºmeras abas abertas. A reuniÃ£o com a equipe comeÃ§ou pontualmente Ã\\xa0s 9h, vozes animadas discutindo as estratÃ©gias para o prÃ³ximo projeto. A energia era contagiante, ideias fluindo livremente, cada um contribuindo com sua perspectiva Ãºnica. AnotaÃ§Ãµes rabiscadas em um caderno, planos e metas sendo definidos, a sensaÃ§Ã£o de um trabalho em equipe produtivo.',\n",
       "  '{\\n      \"date\":\"2025-02-27\",\\n      \"time\":\"12:30:00\",\\n      \"period\":\"noite\",\\n      \"day_of_week\":\"quarta\",\\n      \"season\":\"verÃ£o\",\\n      \"session\":\"janta\"\\n      }\\n      \\n\\n O jantar em casa foi um momento de tranquilidade. A luz suave das velas criava um ambiente Ã\\xadntimo, enquanto a mÃºsica clÃ¡ssica preenchia o ar. O sabor do frango assado com ervas pairava no ar, acompanhado por legumes frescos e crocantes. A conversa com a famÃ\\xadlia era leve e descontraÃ\\xadda, histÃ³rias do dia sendo compartilhadas, risadas e carinho. \\n Antes de dormir, um livro nas mÃ£os, a luz suave do abajur iluminando as pÃ¡ginas. A histÃ³ria envolvente me transportava para outro mundo, um refÃºgio da realidade. A sensaÃ§Ã£o de paz e relaxamento me invadia, o corpo cansado, mas a mente tranquila. O sono chegou suavemente, um descanso merecido apÃ³s um dia cheio de experiÃªncias.',\n",
       "  '{\\n      \"date\":\"2025-02-27\",\\n      \"time\":\"12:30:00\",\\n      \"period\":\"dia\",\\n      \"day_of_week\":\"quarta\",\\n      \"season\":\"verÃ£o\",\\n      \"session\":\"almoÃ§o\"\\n      }\\n      \\n\\n O almoÃ§o em um pequeno restaurante italiano no centro da cidade foi um refÃºgio bem-vindo. O aroma de manjericÃ£o e tomate pairava no ar, e o som suave da mÃºsica italiana criava um ambiente acolhedor. A massa fresca, cozida al dente, derretia na boca, acompanhada por um vinho tinto encorpado. A conversa com um velho amigo fluÃ\\xada naturalmente, risadas e histÃ³rias compartilhadas, um momento de pura alegria. \\n A tarde no parque foi um presente para os sentidos. A grama verde e macia convidava a um descanso, enquanto o sol aquecia a pele. O som das crianÃ§as brincando se misturava com o canto dos pÃ¡ssaros, criando uma sinfonia natural. Observei um casal de idosos caminhando de mÃ£os dadas, um exemplo de amor duradouro. A beleza simples da natureza, um lembrete da importÃ¢ncia de apreciar os pequenos momentos.',\n",
       "  '{\\n      \"date\":\"2025-02-27\",\\n      \"time\":\"14:20:00\",\\n      \"period\":\"tarde\",\\n      \"day_of_week\":\"quarta\",\\n      \"season\":\"verÃ£o\",\\n      \"session\":\"reuniÃ£o de trabalho\"\\n      }\\n      \\n\\n No centro da tarde, reuni-me com a equipe em uma sala iluminada e moderna, onde a troca de ideias era intensa. Entre grÃ¡ficos e apresentaÃ§Ãµes, a energia positiva dos colegas contagiava, e cada proposta era discutida com entusiasmo, demonstrando o comprometimento com o novo projeto que prometia inovaÃ§Ã£o e resultados surpreendentes.']]"
      ]
     },
     "execution_count": 25,
     "metadata": {},
     "output_type": "execute_result"
    }
   ],
   "source": [
    "memorias"
   ]
  }
 ],
 "metadata": {
  "kernelspec": {
   "display_name": "Python 3",
   "language": "python",
   "name": "python3"
  },
  "language_info": {
   "codemirror_mode": {
    "name": "ipython",
    "version": 3
   },
   "file_extension": ".py",
   "mimetype": "text/x-python",
   "name": "python",
   "nbconvert_exporter": "python",
   "pygments_lexer": "ipython3",
   "version": "3.12.9"
  }
 },
 "nbformat": 4,
 "nbformat_minor": 2
}
