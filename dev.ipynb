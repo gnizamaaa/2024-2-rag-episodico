{
 "cells": [
  {
   "cell_type": "markdown",
   "metadata": {},
   "source": [
    "# Importando o Dataset"
   ]
  },
  {
   "cell_type": "code",
   "execution_count": 1,
   "metadata": {},
   "outputs": [],
   "source": [
    "import json"
   ]
  },
  {
   "cell_type": "code",
   "execution_count": 2,
   "metadata": {},
   "outputs": [],
   "source": [
    "teste = open('Dataset.txt', 'r')\n",
    "dataset = json.load(teste)"
   ]
  },
  {
   "cell_type": "markdown",
   "metadata": {},
   "source": [
    "# Chromadb - Armazenando o dataset"
   ]
  },
  {
   "cell_type": "code",
   "execution_count": 3,
   "metadata": {},
   "outputs": [
    {
     "name": "stdout",
     "output_type": "stream",
     "text": [
      "/usr/bin/python\n"
     ]
    }
   ],
   "source": [
    "import sys\n",
    "print(sys.executable)"
   ]
  },
  {
   "cell_type": "code",
   "execution_count": 4,
   "metadata": {},
   "outputs": [
    {
     "name": "stdout",
     "output_type": "stream",
     "text": [
      "{\n",
      "      \"date\":\"2025-02-12\",\n",
      "      \"time\":\"07:20:00\",\n",
      "      \"period\":\"manhã\",\n",
      "      \"day_of_week\":\"quarta-feira\",\n",
      "      \"season\":\"verão\",\n",
      "      \"session\":\"café-da-manhã\"\n",
      "      }\n",
      "      \n",
      "      Preparou café coado em filtro de papel, observando a primeira luz do dia refletir no líquido âmbar enquanto a chaleira assobiava. Um pão francês amanhecido foi transformado em torradas douradas, untadas com manteiga que derretia em veios translúcidos. Do quintal, vinha o barulho de pássaros disputando migalhas caídas da mesa externa, enquanto o cheiro de terra molhada da chuva noturna ainda pairava no ar.\n",
      "      \n",
      "{\n",
      "      \"date\":\"2025-02-12\",\n",
      "      \"time\":\"12:50:00\",\n",
      "      \"period\":\"meio-dia\",\n",
      "      \"day_of_week\":\"quarta-feira\",\n",
      "      \"season\":\"verão\",\n",
      "      \"session\":\"almoço\"\n",
      "      }\n",
      "      \n",
      "      Reaqueceu arroz do dia anterior, adicionando ervilhas congeladas que estalavam na panela. Cortou tomates maduros em fatias desiguais, cujo suco se misturou ao azeite no prato formando poças rosadas. Durante a refeição, notou uma formiga carregando um grão de arroz pela janela, persistindo mesmo após três tentativas de interrupção do vento que balançava a cortina.\n",
      "      \n",
      "{\n",
      "      \"date\":\"2025-02-12\",\n",
      "      \"time\":\"16:15:00\",\n",
      "      \"period\":\"tarde\",\n",
      "      \"day_of_week\":\"quarta-feira\",\n",
      "      \"season\":\"verão\",\n",
      "      \"session\":\"lanche da tarde\"\n",
      "      }\n",
      "      \n",
      "      Misturou iogurte natural com mel cristalizado que precisou ser quebrado em lascas com uma colher. Polvilhou canela em pó que formou padrões efêmeros na superfície antes de se dissolver. Enquanto comia, recebeu uma ligação automática de cobrança e observou uma nuvem em forma de tartaruga se desfazer lentamente sobre os telhados vizinhos.\n",
      "      \n",
      "{\n",
      "      \"date\":\"2025-02-12\",\n",
      "      \"time\":\"19:45:00\",\n",
      "      \"period\":\"noite\",\n",
      "      \"day_of_week\":\"quarta-feira\",\n",
      "      \"season\":\"verão\",\n",
      "      \"session\":\"janta\"\n",
      "      }\n",
      "      \n",
      "      Fritou ovos em azeite até as bordas ficarem rendilhadas, servindo sobre espinafre refogado que soltou água verde no fundo do prato. A última fatia de queijo foi descoberta com pequenos furinhos de fermentação, mas consumida assim mesmo. Durante a refeição, ouviu os sons abafados de uma discussão conjugal vinda do apartamento superior, intercalados com o barulho de talheres contra a louça.\n",
      "      \n",
      "{\n",
      "      \"date\":\"2025-02-12\",\n",
      "      \"time\":\"22:30:00\",\n",
      "      \"period\":\"noite\",\n",
      "      \"day_of_week\":\"quarta-feira\",\n",
      "      \"season\":\"verão\",\n",
      "      \"session\":\"lanche da noite\"\n",
      "      }\n",
      "      \n",
      "      Descascou uma banana madura demais, cuja polpa macia grudava nos dedos enquanto ouvia o zumbido distante de um mosquito. Mastigou lentamente observando as sombras dos galhos dançarem na parede iluminada pelo poste da rua, até que o barulho de uma moto acelerando na avenida próxima quebrou o silêncio.\n",
      "      \n"
     ]
    }
   ],
   "source": [
    "\n",
    "for i in dataset:\n",
    "    a = f\"\"\"{{\n",
    "      \"date\":\"{i['date']}\",\n",
    "      \"time\":\"{i['time']}\",\n",
    "      \"period\":\"{i['period']}\",\n",
    "      \"day_of_week\":\"{i['day_of_week']}\",\n",
    "      \"season\":\"{i['season']}\",\n",
    "      \"session\":\"{i['session']}\"\n",
    "      }}\n",
    "      \n",
    "      {i[\"description\"]}\n",
    "      \"\"\"\n",
    "\n",
    "    if (i['date'] == '2025-02-12'):\n",
    "        print(a)"
   ]
  },
  {
   "cell_type": "code",
   "execution_count": 5,
   "metadata": {},
   "outputs": [],
   "source": [
    "import ollama\n",
    "import chromadb"
   ]
  },
  {
   "cell_type": "code",
   "execution_count": null,
   "metadata": {},
   "outputs": [],
   "source": [
    "client = chromadb.PersistentClient(path=\"chroma/\")\n",
    "collection = client.get_or_create_collection(name=\"temporal\")\n",
    "\n",
    "ollama.pull(\"granite-embedding\")\n",
    "\n",
    "for d, i in enumerate(dataset):\n",
    "    a = f\"\"\"{{\n",
    "      \"date\":\"{i['date']}\",\n",
    "      \"time\":\"{i['time']}\",\n",
    "      \"period\":\"{i['period']}\",\n",
    "      \"day_of_week\":\"{i['day_of_week']}\",\n",
    "      \"season\":\"{i['season']}\",\n",
    "      \"session\":\"{i['session']}\"\n",
    "      }}\n",
    "      \n",
    "      {i[\"description\"]}\n",
    "      \"\"\"\n",
    "    embedding = ollama.embed(model=\"granite-embedding:278m\", input=a)[\"embeddings\"]\n",
    "\n",
    "    collection.add(\n",
    "        ids=[str(d)],\n",
    "        embeddings=embedding,\n",
    "        documents=[a]\n",
    "    )"
   ]
  },
  {
   "cell_type": "code",
   "execution_count": 7,
   "metadata": {},
   "outputs": [
    {
     "data": {
      "text/plain": [
       "44"
      ]
     },
     "execution_count": 7,
     "metadata": {},
     "output_type": "execute_result"
    }
   ],
   "source": [
    "collection.count()"
   ]
  },
  {
   "cell_type": "markdown",
   "metadata": {},
   "source": [
    "# LLM - Requisição Inicial"
   ]
  },
  {
   "cell_type": "code",
   "execution_count": 11,
   "metadata": {},
   "outputs": [],
   "source": [
    "pergunta = \"O que almocei no dia 2025-02-26?\""
   ]
  },
  {
   "cell_type": "code",
   "execution_count": null,
   "metadata": {},
   "outputs": [],
   "source": []
  },
  {
   "cell_type": "code",
   "execution_count": null,
   "metadata": {},
   "outputs": [],
   "source": [
    "embeddingPergunta = ollama.embed(model=\"granite-embedding:278m\", input=pergunta)[\"embeddings\"]\n",
    "memorias = collection.query(query_embeddings=embeddingPergunta, n_results=6)[\"documents\"]"
   ]
  },
  {
   "cell_type": "code",
   "execution_count": 13,
   "metadata": {},
   "outputs": [
    {
     "data": {
      "text/plain": [
       "[['{\\n      \"date\":\"2025-02-10\",\\n      \"time\":\"22:10:00\",\\n      \"period\":\"noite\",\\n      \"day_of_week\":\"terça-feira\",\\n      \"season\":\"verão\",\\n      \"session\":\"pré-madrugada\"\\n      }\\n      \\n      Descobriu um easter egg em uma série de ficção científica que assistia: o código QR em um pôster de fundo levava a um curta-metragem secreto do diretor, cheio de referências à cultura cyberpunk dos anos 90.\\n      ',\n",
       "  '{\\n      \"date\":\"2025-03-25\",\\n      \"time\":\"12:00:00\",\\n      \"period\":\"meio-dia\",\\n      \"day_of_week\":\"quarta-feira\",\\n      \"season\":\"outono\",\\n      \"session\":\"almoço\"\\n      }\\n      \\n      Descobriu um dente incrustado na azeitona da salada enquanto almoçava. O restaurante ofereceu sobremesa grátis, mas o garçom sussurrou: \\'Isso acontece mais do que você imagina\\', com um sorriso que revelou um canino faltando.\\n      ',\n",
       "  '{\\n      \"date\":\"2025-02-10\",\\n      \"time\":\"14:35:00\",\\n      \"period\":\"tarde\",\\n      \"day_of_week\":\"terça-feira\",\\n      \"season\":\"verão\",\\n      \"session\":\"pós-almoço\"\\n      }\\n      \\n      Encontrou uma carteira esquecida no banco do parque. Ao devolvê-la para o dono (um turista australiano), recebeu como agradecimento um ingresso para um show de jazz underground que aconteceria naquela noite.\\n      ',\n",
       "  '{\\n      \"date\":\"2025-02-27\",\\n      \"time\":\"08:10:00\",\\n      \"period\":\"manhã\",\\n      \"day_of_week\":\"quarta\",\\n      \"season\":\"verão\",\\n      \"session\":\"café da manhã\"\\n      }\\n      \\n      Logo após acordar, senti o aroma revigorante do café passado na hora, que se misturava ao cheiro de pão recém-saído do forno. Sentei-me na varanda, observando o movimento suave dos vizinhos e a luz suave do sol que começava a aquecer o ambiente, marcando o início de um dia promissor.\\n      ',\n",
       "  '{\\n      \"date\":\"2025-03-25\",\\n      \"time\":\"09:15:00\",\\n      \"period\":\"manhã\",\\n      \"day_of_week\":\"quarta-feira\",\\n      \"season\":\"outono\",\\n      \"session\":\"pós-café-da-manhã\"\\n      }\\n      \\n      Encontrou uma carta manuscrita dentro de um livro antigo da biblioteca pública, descrevendo um encontro amoroso de 1978. O papel tinha manchas de café e cheiro de naftalina, com uma linha sublinhada: \\'Nos encontraremos onde as estátuas viraram costas\\'.\\n      ',\n",
       "  '{\\n      \"date\":\"2025-03-25\",\\n      \"time\":\"05:50:00\",\\n      \"period\":\"madrugada\",\\n      \"day_of_week\":\"quarta-feira\",\\n      \"season\":\"outono\",\\n      \"session\":\"pré-amanhecer\"\\n      }\\n      \\n      Acordou com o som de vasos quebrando no quintal - um gambá tentava roubar mangas maduras. Ao acender a luz, viu o animal paralisado sob o feixe luminoso, seus olhos refletindo como âmbar líquido antes de fugir arrastando a fruta.\\n      ']]"
      ]
     },
     "execution_count": 13,
     "metadata": {},
     "output_type": "execute_result"
    }
   ],
   "source": [
    "memorias"
   ]
  }
 ],
 "metadata": {
  "kernelspec": {
   "display_name": "usr",
   "language": "python",
   "name": "python3"
  },
  "language_info": {
   "codemirror_mode": {
    "name": "ipython",
    "version": 3
   },
   "file_extension": ".py",
   "mimetype": "text/x-python",
   "name": "python",
   "nbconvert_exporter": "python",
   "pygments_lexer": "ipython3",
   "version": "3.13.2"
  }
 },
 "nbformat": 4,
 "nbformat_minor": 2
}
